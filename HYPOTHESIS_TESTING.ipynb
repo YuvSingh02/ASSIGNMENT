{
  "nbformat": 4,
  "nbformat_minor": 0,
  "metadata": {
    "colab": {
      "provenance": []
    },
    "kernelspec": {
      "name": "python3",
      "display_name": "Python 3"
    },
    "language_info": {
      "name": "python"
    }
  },
  "cells": [
    {
      "cell_type": "code",
      "execution_count": null,
      "metadata": {
        "id": "Ml0NUN0U2mb8"
      },
      "outputs": [],
      "source": [
        "import scipy.stats as stats"
      ]
    },
    {
      "cell_type": "code",
      "source": [
        "#given data\n",
        "sample_mean = 3050\n",
        "theoretical_mean = 4000\n",
        "sample_size = 25\n",
        "std_deviation = 5*25"
      ],
      "metadata": {
        "id": "QS9DClD53C-U"
      },
      "execution_count": null,
      "outputs": []
    },
    {
      "cell_type": "code",
      "source": [
        "t_statistics = (sample_mean - theoretical_mean)/(std_deviation/(sample_size**0.5))"
      ],
      "metadata": {
        "id": "DAmtm3lD3X4J"
      },
      "execution_count": null,
      "outputs": []
    },
    {
      "cell_type": "code",
      "source": [
        "t_statistics"
      ],
      "metadata": {
        "colab": {
          "base_uri": "https://localhost:8080/"
        },
        "id": "5oklDHFz31K3",
        "outputId": "ef868a5b-d661-4364-b644-702c34b741b8"
      },
      "execution_count": null,
      "outputs": [
        {
          "output_type": "execute_result",
          "data": {
            "text/plain": [
              "-38.0"
            ]
          },
          "metadata": {},
          "execution_count": 7
        }
      ]
    },
    {
      "cell_type": "code",
      "source": [
        "alpha = 0.05\n",
        "critical_value = stats.norm.ppf(1-alpha)\n",
        "print(f'Critical value(Z):{critical_value}')"
      ],
      "metadata": {
        "colab": {
          "base_uri": "https://localhost:8080/"
        },
        "id": "ursg5pXd388c",
        "outputId": "d233d203-89cd-46ce-df81-52821d9f1cab"
      },
      "execution_count": null,
      "outputs": [
        {
          "output_type": "stream",
          "name": "stdout",
          "text": [
            "Critical value(Z):1.6448536269514722\n"
          ]
        }
      ]
    },
    {
      "cell_type": "code",
      "source": [
        "if t_statistics > critical_value:\n",
        "  print(\"Alternate Hypothesis is not true\")\n",
        "else:\n",
        "  print(\"Alternate Hypothesis is true\")"
      ],
      "metadata": {
        "colab": {
          "base_uri": "https://localhost:8080/"
        },
        "id": "_V3tgeXw5H1O",
        "outputId": "fc6dd78b-a975-4080-9614-8451cca875d2"
      },
      "execution_count": null,
      "outputs": [
        {
          "output_type": "stream",
          "name": "stdout",
          "text": [
            "Alternate Hypothesis is true\n"
          ]
        }
      ]
    },
    {
      "cell_type": "code",
      "source": [
        "import numpy as np\n",
        "import scipy.stats as stats\n",
        "\n"
      ],
      "metadata": {
        "id": "2YlEL7I56m3V"
      },
      "execution_count": null,
      "outputs": []
    },
    {
      "cell_type": "code",
      "source": [
        "# Observed frequencies\n",
        "observed = np.array([\n",
        "    [50, 70],\n",
        "    [80, 100],\n",
        "    [60, 90],\n",
        "    [30, 50],\n",
        "    [20, 50]\n",
        "])\n",
        "\n"
      ],
      "metadata": {
        "id": "-D9N5WQh9y60"
      },
      "execution_count": null,
      "outputs": []
    },
    {
      "cell_type": "code",
      "source": [
        "# Row and column sums\n",
        "row_sums = observed.sum(axis=1)\n",
        "col_sums = observed.sum(axis=0)\n",
        "total = observed.sum()\n",
        "\n"
      ],
      "metadata": {
        "id": "sfjaEsZM95fT"
      },
      "execution_count": null,
      "outputs": []
    },
    {
      "cell_type": "code",
      "source": [
        "# Expected frequencies\n",
        "expected = np.outer(row_sums, col_sums) / total\n",
        "\n",
        "# Chi-Square statistic\n",
        "chi_square_statistic = ((observed - expected) ** 2 / expected).sum()\n",
        "\n",
        "# Degrees of freedom\n",
        "df = (observed.shape[0] - 1) * (observed.shape[1] - 1)\n",
        "\n"
      ],
      "metadata": {
        "id": "XGKniGGG9-Ee"
      },
      "execution_count": null,
      "outputs": []
    },
    {
      "cell_type": "code",
      "source": [
        "#Critical value\n",
        "alpha = 0.05\n",
        "critical_value = stats.chi2.ppf(1 - alpha, df)\n",
        "\n",
        "# P-value\n",
        "p_value = 1 - stats.chi2.cdf(chi_square_statistic, df)\n",
        "\n",
        "# Print the results\n",
        "print(f'Chi-Square Statistic: {chi_square_statistic}')\n",
        "print(f'Degrees of Freedom: {df}')\n",
        "print(f'Critical Value: {critical_value}')\n",
        "print(f'P-value: {p_value}')\n",
        "\n",
        "# Decision\n",
        "if chi_square_statistic > critical_value:\n",
        "    print(\"Reject the null hypothesis: There is a significant association between the type of smart home device purchased and the customer satisfaction level.\")\n",
        "else:\n",
        "    print(\"Fail to reject the null hypothesis: There is no significant association between the type of smart home device purchased and the customer satisfaction level.\")"
      ],
      "metadata": {
        "id": "ttPeLM_s-BWi",
        "outputId": "232f949f-53b8-444a-efad-711121db2dfe",
        "colab": {
          "base_uri": "https://localhost:8080/"
        }
      },
      "execution_count": null,
      "outputs": [
        {
          "output_type": "stream",
          "name": "stdout",
          "text": [
            "Chi-Square Statistic: 5.638227513227513\n",
            "Degrees of Freedom: 4\n",
            "Critical Value: 9.487729036781154\n",
            "P-value: 0.22784371130697179\n",
            "Fail to reject the null hypothesis: There is no significant association between the type of smart home device purchased and the customer satisfaction level.\n"
          ]
        }
      ]
    },
    {
      "cell_type": "code",
      "source": [],
      "metadata": {
        "id": "smwYO23B-F7z"
      },
      "execution_count": null,
      "outputs": []
    }
  ]
}
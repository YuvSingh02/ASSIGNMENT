{
  "nbformat": 4,
  "nbformat_minor": 0,
  "metadata": {
    "colab": {
      "provenance": []
    },
    "kernelspec": {
      "name": "python3",
      "display_name": "Python 3"
    },
    "language_info": {
      "name": "python"
    }
  },
  "cells": [
    {
      "cell_type": "code",
      "execution_count": 1,
      "metadata": {
        "id": "In131kI28SeL",
        "colab": {
          "base_uri": "https://localhost:8080/"
        },
        "outputId": "7330023b-b9d9-4b96-efc3-79bbf03375c7"
      },
      "outputs": [
        {
          "output_type": "stream",
          "name": "stdout",
          "text": [
            "29 is a prime number.\n"
          ]
        }
      ],
      "source": [
        "# Exercise 1 : Check Whether Number is Prime Or Not\n",
        "def is_prime(n):\n",
        "    if n <= 1:\n",
        "        return False\n",
        "    if n == 2 or n == 3:\n",
        "        return True\n",
        "    if n % 2 == 0 or n % 3 == 0:\n",
        "        return False\n",
        "    i = 5\n",
        "    while i * i <= n:\n",
        "        if n % i == 0 or n % (i + 2) == 0:\n",
        "            return False\n",
        "        i += 6\n",
        "    return True\n",
        "\n",
        "# Example usage:\n",
        "number = 29\n",
        "if is_prime(number):\n",
        "    print(f\"{number} is a prime number.\")\n",
        "else:\n",
        "    print(f\"{number} is not a prime number.\")\n"
      ]
    },
    {
      "cell_type": "markdown",
      "source": [
        "# Exercise 2: Product of Random Numbers\n"
      ],
      "metadata": {
        "id": "pbp5-JMx95WA"
      }
    },
    {
      "cell_type": "code",
      "source": [
        "# Exercise 2: Product of Random Numbers\n",
        "import random\n",
        "number_one = random.randint(0,1000)\n",
        "print(number_one)\n",
        "number_two = random.randint(0,1000)\n",
        "print(number_two)\n",
        "product = number_one * number_two\n",
        "\n",
        "#take answer from user\n",
        "user_answer = int(input(\"\\nenter the product of two numbers\\n\"))\n",
        "\n",
        "#now match both answers\n",
        "if user_answer == product :\n",
        "  print(\"Right answer!\")\n",
        "else:\n",
        "  print(\"Wrong answer!\")"
      ],
      "metadata": {
        "id": "9K2xGh2998B9",
        "colab": {
          "base_uri": "https://localhost:8080/"
        },
        "outputId": "b297de34-951b-4f29-da3e-3fa22b4dabbe"
      },
      "execution_count": 6,
      "outputs": [
        {
          "output_type": "stream",
          "name": "stdout",
          "text": [
            "103\n",
            "84\n",
            "\n",
            "enter the product of two numbers\n",
            "9876\n",
            "Wrong answer!\n"
          ]
        }
      ]
    },
    {
      "cell_type": "code",
      "source": [
        "# Exercise 3: Squares of Even/Odd Numbers\n",
        "def square_even_odd(numbers):\n",
        "    for number in numbers:\n",
        "        square = number ** 2\n",
        "        if number % 2 == 0:\n",
        "            print(f\"The square of {number} (even) is {square}, which is even.\")\n",
        "        else:\n",
        "            print(f\"The square of {number} (odd) is {square}, which is odd.\")\n",
        "\n",
        "# Example usage:\n",
        "numbers_list = range(100,200)\n",
        "square_even_odd(numbers_list)\n"
      ],
      "metadata": {
        "colab": {
          "base_uri": "https://localhost:8080/"
        },
        "id": "eY_ZJrdo8i-b",
        "outputId": "e6b832c6-d9b4-4ae5-d0ce-b0999e23ec68"
      },
      "execution_count": 7,
      "outputs": [
        {
          "output_type": "stream",
          "name": "stdout",
          "text": [
            "The square of 100 (even) is 10000, which is even.\n",
            "The square of 101 (odd) is 10201, which is odd.\n",
            "The square of 102 (even) is 10404, which is even.\n",
            "The square of 103 (odd) is 10609, which is odd.\n",
            "The square of 104 (even) is 10816, which is even.\n",
            "The square of 105 (odd) is 11025, which is odd.\n",
            "The square of 106 (even) is 11236, which is even.\n",
            "The square of 107 (odd) is 11449, which is odd.\n",
            "The square of 108 (even) is 11664, which is even.\n",
            "The square of 109 (odd) is 11881, which is odd.\n",
            "The square of 110 (even) is 12100, which is even.\n",
            "The square of 111 (odd) is 12321, which is odd.\n",
            "The square of 112 (even) is 12544, which is even.\n",
            "The square of 113 (odd) is 12769, which is odd.\n",
            "The square of 114 (even) is 12996, which is even.\n",
            "The square of 115 (odd) is 13225, which is odd.\n",
            "The square of 116 (even) is 13456, which is even.\n",
            "The square of 117 (odd) is 13689, which is odd.\n",
            "The square of 118 (even) is 13924, which is even.\n",
            "The square of 119 (odd) is 14161, which is odd.\n",
            "The square of 120 (even) is 14400, which is even.\n",
            "The square of 121 (odd) is 14641, which is odd.\n",
            "The square of 122 (even) is 14884, which is even.\n",
            "The square of 123 (odd) is 15129, which is odd.\n",
            "The square of 124 (even) is 15376, which is even.\n",
            "The square of 125 (odd) is 15625, which is odd.\n",
            "The square of 126 (even) is 15876, which is even.\n",
            "The square of 127 (odd) is 16129, which is odd.\n",
            "The square of 128 (even) is 16384, which is even.\n",
            "The square of 129 (odd) is 16641, which is odd.\n",
            "The square of 130 (even) is 16900, which is even.\n",
            "The square of 131 (odd) is 17161, which is odd.\n",
            "The square of 132 (even) is 17424, which is even.\n",
            "The square of 133 (odd) is 17689, which is odd.\n",
            "The square of 134 (even) is 17956, which is even.\n",
            "The square of 135 (odd) is 18225, which is odd.\n",
            "The square of 136 (even) is 18496, which is even.\n",
            "The square of 137 (odd) is 18769, which is odd.\n",
            "The square of 138 (even) is 19044, which is even.\n",
            "The square of 139 (odd) is 19321, which is odd.\n",
            "The square of 140 (even) is 19600, which is even.\n",
            "The square of 141 (odd) is 19881, which is odd.\n",
            "The square of 142 (even) is 20164, which is even.\n",
            "The square of 143 (odd) is 20449, which is odd.\n",
            "The square of 144 (even) is 20736, which is even.\n",
            "The square of 145 (odd) is 21025, which is odd.\n",
            "The square of 146 (even) is 21316, which is even.\n",
            "The square of 147 (odd) is 21609, which is odd.\n",
            "The square of 148 (even) is 21904, which is even.\n",
            "The square of 149 (odd) is 22201, which is odd.\n",
            "The square of 150 (even) is 22500, which is even.\n",
            "The square of 151 (odd) is 22801, which is odd.\n",
            "The square of 152 (even) is 23104, which is even.\n",
            "The square of 153 (odd) is 23409, which is odd.\n",
            "The square of 154 (even) is 23716, which is even.\n",
            "The square of 155 (odd) is 24025, which is odd.\n",
            "The square of 156 (even) is 24336, which is even.\n",
            "The square of 157 (odd) is 24649, which is odd.\n",
            "The square of 158 (even) is 24964, which is even.\n",
            "The square of 159 (odd) is 25281, which is odd.\n",
            "The square of 160 (even) is 25600, which is even.\n",
            "The square of 161 (odd) is 25921, which is odd.\n",
            "The square of 162 (even) is 26244, which is even.\n",
            "The square of 163 (odd) is 26569, which is odd.\n",
            "The square of 164 (even) is 26896, which is even.\n",
            "The square of 165 (odd) is 27225, which is odd.\n",
            "The square of 166 (even) is 27556, which is even.\n",
            "The square of 167 (odd) is 27889, which is odd.\n",
            "The square of 168 (even) is 28224, which is even.\n",
            "The square of 169 (odd) is 28561, which is odd.\n",
            "The square of 170 (even) is 28900, which is even.\n",
            "The square of 171 (odd) is 29241, which is odd.\n",
            "The square of 172 (even) is 29584, which is even.\n",
            "The square of 173 (odd) is 29929, which is odd.\n",
            "The square of 174 (even) is 30276, which is even.\n",
            "The square of 175 (odd) is 30625, which is odd.\n",
            "The square of 176 (even) is 30976, which is even.\n",
            "The square of 177 (odd) is 31329, which is odd.\n",
            "The square of 178 (even) is 31684, which is even.\n",
            "The square of 179 (odd) is 32041, which is odd.\n",
            "The square of 180 (even) is 32400, which is even.\n",
            "The square of 181 (odd) is 32761, which is odd.\n",
            "The square of 182 (even) is 33124, which is even.\n",
            "The square of 183 (odd) is 33489, which is odd.\n",
            "The square of 184 (even) is 33856, which is even.\n",
            "The square of 185 (odd) is 34225, which is odd.\n",
            "The square of 186 (even) is 34596, which is even.\n",
            "The square of 187 (odd) is 34969, which is odd.\n",
            "The square of 188 (even) is 35344, which is even.\n",
            "The square of 189 (odd) is 35721, which is odd.\n",
            "The square of 190 (even) is 36100, which is even.\n",
            "The square of 191 (odd) is 36481, which is odd.\n",
            "The square of 192 (even) is 36864, which is even.\n",
            "The square of 193 (odd) is 37249, which is odd.\n",
            "The square of 194 (even) is 37636, which is even.\n",
            "The square of 195 (odd) is 38025, which is odd.\n",
            "The square of 196 (even) is 38416, which is even.\n",
            "The square of 197 (odd) is 38809, which is odd.\n",
            "The square of 198 (even) is 39204, which is even.\n",
            "The square of 199 (odd) is 39601, which is odd.\n"
          ]
        }
      ]
    },
    {
      "cell_type": "code",
      "source": [
        "# Exercise 4 : Word Counter\n",
        "from collections import Counter\n",
        "\n",
        "sentence = input('Enter your choice of sentence: \\n')\n",
        "\n",
        "# Split the sentence into words\n",
        "words = sentence.split()\n",
        "\n",
        "# Count the occurrences of each word\n",
        "word_counts = Counter(words)\n",
        "\n",
        "for word, count in word_counts.items():\n",
        "    print(f\"{word}: {count}\")\n"
      ],
      "metadata": {
        "colab": {
          "base_uri": "https://localhost:8080/"
        },
        "id": "Ugyymeswg8XV",
        "outputId": "78d61f2c-be40-484a-842d-aca2361c28c1"
      },
      "execution_count": 8,
      "outputs": [
        {
          "output_type": "stream",
          "name": "stdout",
          "text": [
            "Enter your choice of sentence: \n",
            "hello, my name is yuvraj singh. \n",
            "hello,: 1\n",
            "my: 1\n",
            "name: 1\n",
            "is: 1\n",
            "yuvraj: 1\n",
            "singh.: 1\n"
          ]
        }
      ]
    },
    {
      "cell_type": "code",
      "source": [
        "# Exercise 5: Palindrome Checker\n",
        "def is_palindrome(s):\n",
        "    # Remove spaces and convert to lowercase for a case-insensitive comparison\n",
        "    s = s.replace(\" \", \"\").lower()\n",
        "\n",
        "    # Initialize two pointers\n",
        "    left, right = 0, len(s) - 1\n",
        "\n",
        "    # Iterate while the left pointer is less than the right pointer\n",
        "    while left < right:\n",
        "        # Compare characters at the left and right pointers\n",
        "        if s[left] != s[right]:\n",
        "            return False\n",
        "        # Move pointers closer to the center\n",
        "        left += 1\n",
        "        right -= 1\n",
        "\n",
        "    return True\n",
        "\n",
        "# Example usage:\n",
        "word = \"Racecar\"\n",
        "if is_palindrome(word):\n",
        "    print(f'\"{word}\" is a palindrome.')\n",
        "else:\n",
        "    print(f'\"{word}\" is not a palindrome.')\n"
      ],
      "metadata": {
        "colab": {
          "base_uri": "https://localhost:8080/"
        },
        "id": "0b_q1CVAhj8D",
        "outputId": "df172b58-ecd0-40c3-da7b-f27caa9a8f3b"
      },
      "execution_count": 9,
      "outputs": [
        {
          "output_type": "stream",
          "name": "stdout",
          "text": [
            "\"Racecar\" is a palindrome.\n"
          ]
        }
      ]
    }
  ]
}